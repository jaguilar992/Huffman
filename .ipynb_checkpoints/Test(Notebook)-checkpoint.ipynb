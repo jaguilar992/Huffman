{
 "cells": [
  {
   "cell_type": "code",
   "execution_count": 41,
   "metadata": {
    "collapsed": false
   },
   "outputs": [],
   "source": [
    "from ARBOL import *"
   ]
  },
  {
   "cell_type": "markdown",
   "metadata": {},
   "source": [
    "![ARBOL][img]\n",
    "[img]:https://ajedrez92.files.wordpress.com/2017/03/diburrrjo1.png"
   ]
  },
  {
   "cell_type": "code",
   "execution_count": 49,
   "metadata": {
    "collapsed": false
   },
   "outputs": [
    {
     "data": {
      "text/plain": [
       "4"
      ]
     },
     "execution_count": 49,
     "metadata": {},
     "output_type": "execute_result"
    }
   ],
   "source": [
    "k=ARBOL()\n",
    "k.CREAi(1,[\n",
    "    k.CREAi(2,[\n",
    "        k.CREA0(4),\n",
    "        k.CREA0(5)\n",
    "    ]),\n",
    "    k.CREA0(3)\n",
    "])"
   ]
  },
  {
   "cell_type": "code",
   "execution_count": 50,
   "metadata": {
    "collapsed": false
   },
   "outputs": [
    {
     "name": "stdout",
     "output_type": "stream",
     "text": [
      "i\thijo\tdata\thermano\n",
      "0\t-1\t4\t1\n",
      "1\t-1\t5\t-1\n",
      "2\t0\t2\t3\n",
      "3\t-1\t3\t-1\n",
      "4\t2\t1\t-1\n"
     ]
    }
   ],
   "source": [
    "print \"i\\thijo\\tdata\\thermano\"\n",
    "for i in range(0,len(k.data)):\n",
    "    print str(i)+\"\\t\"+str(k.hijo_mas_izq[i])+\"\\t\"+str(k.data[i])+\"\\t\"+str(k.hermano_dere[i])"
   ]
  },
  {
   "cell_type": "markdown",
   "metadata": {},
   "source": [
    "![Arbol][imagen]\n",
    "[imagen]:https://ajedrez92.files.wordpress.com/2017/03/dibujo21.png"
   ]
  },
  {
   "cell_type": "code",
   "execution_count": 37,
   "metadata": {
    "collapsed": false
   },
   "outputs": [
    {
     "data": {
      "text/plain": [
       "8"
      ]
     },
     "execution_count": 37,
     "metadata": {},
     "output_type": "execute_result"
    }
   ],
   "source": [
    "A=ARBOL()\n",
    "A.CREAi(1,[\n",
    "    A.CREAi(2,[\n",
    "        A.CREAi(5,[\n",
    "            A.CREA0(8)\n",
    "        ]),\n",
    "        A.CREA0(6)\n",
    "    ]),\n",
    "    A.CREA0(3),\n",
    "    A.CREAi(4,[\n",
    "        A.CREA0(7),\n",
    "        A.CREA0(9)\n",
    "    ])\n",
    "])"
   ]
  },
  {
   "cell_type": "code",
   "execution_count": 47,
   "metadata": {
    "collapsed": false
   },
   "outputs": [
    {
     "name": "stdout",
     "output_type": "stream",
     "text": [
      "i\thijo\tdata\thermano\n",
      "0\t-1\t8\t-1\n",
      "1\t0\t5\t2\n",
      "2\t-1\t6\t-1\n",
      "3\t1\t2\t4\n",
      "4\t-1\t3\t7\n",
      "5\t-1\t7\t6\n",
      "6\t-1\t9\t-1\n",
      "7\t5\t4\t-1\n",
      "8\t3\t1\t-1\n"
     ]
    }
   ],
   "source": [
    "print \"i\\thijo\\tdata\\thermano\"\n",
    "for i in range(0,len(A.data)):\n",
    "    print str(i)+\"\\t\"+str(A.hijo_mas_izq[i])+\"\\t\"+str(A.data[i])+\"\\t\"+str(A.hermano_dere[i])"
   ]
  },
  {
   "cell_type": "code",
   "execution_count": 46,
   "metadata": {
    "collapsed": false
   },
   "outputs": [
    {
     "name": "stdout",
     "output_type": "stream",
     "text": [
      "5\n",
      "2\n",
      "None\n",
      "2\n",
      "5\n",
      "None\n"
     ]
    }
   ],
   "source": [
    "print A.PADRE(8)\n",
    "print A.PADRE(6)\n",
    "print A.HERMANO_DER(6)\n",
    "print A.PADRE(6)\n",
    "print A.HERMANO_IZQ(6)\n",
    "print A.HIJO_MAS_DER(5)"
   ]
  },
  {
   "cell_type": "markdown",
   "metadata": {},
   "source": []
  }
 ],
 "metadata": {
  "kernelspec": {
   "display_name": "Python [conda root]",
   "language": "python",
   "name": "conda-root-py"
  },
  "language_info": {
   "codemirror_mode": {
    "name": "ipython",
    "version": 2
   },
   "file_extension": ".py",
   "mimetype": "text/x-python",
   "name": "python",
   "nbconvert_exporter": "python",
   "pygments_lexer": "ipython2",
   "version": "2.7.12"
  }
 },
 "nbformat": 4,
 "nbformat_minor": 2
}

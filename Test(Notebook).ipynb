{
 "cells": [
  {
   "cell_type": "code",
   "execution_count": 1,
   "metadata": {
    "collapsed": false
   },
   "outputs": [],
   "source": [
    "from ARBOL import *"
   ]
  },
  {
   "cell_type": "code",
   "execution_count": 2,
   "metadata": {
    "collapsed": false
   },
   "outputs": [],
   "source": [
    "m = ARBOL()\n",
    "m.hijo_mas_izq=[1,2,7,-1,-1,6,-1,-1,-1]\n",
    "m.data=[1,2,5,3,6,4,7,8,9]\n",
    "m.hermano_dere=[-1,3,4,5,-1,-1,8,-1,-1]\n",
    "m.raiz=0"
   ]
  },
  {
   "cell_type": "code",
   "execution_count": 3,
   "metadata": {
    "collapsed": false
   },
   "outputs": [
    {
     "name": "stdout",
     "output_type": "stream",
     "text": [
      "None\n"
     ]
    }
   ],
   "source": [
    "print m.HERMANO_DER(6)"
   ]
  },
  {
   "cell_type": "code",
   "execution_count": 4,
   "metadata": {
    "collapsed": false
   },
   "outputs": [
    {
     "name": "stdout",
     "output_type": "stream",
     "text": [
      "2\n"
     ]
    }
   ],
   "source": [
    "print m.PADRE(6)"
   ]
  },
  {
   "cell_type": "code",
   "execution_count": 5,
   "metadata": {
    "collapsed": false
   },
   "outputs": [
    {
     "name": "stdout",
     "output_type": "stream",
     "text": [
      "5\n"
     ]
    }
   ],
   "source": [
    "print m.HERMANO_IZQ(6)"
   ]
  },
  {
   "cell_type": "code",
   "execution_count": 6,
   "metadata": {
    "collapsed": false
   },
   "outputs": [
    {
     "name": "stdout",
     "output_type": "stream",
     "text": [
      "None\n"
     ]
    }
   ],
   "source": [
    "print m.HIJO_MAS_DER(5)"
   ]
  },
  {
   "cell_type": "code",
   "execution_count": 7,
   "metadata": {
    "collapsed": true
   },
   "outputs": [],
   "source": [
    "k=ARBOL()"
   ]
  },
  {
   "cell_type": "code",
   "execution_count": 8,
   "metadata": {
    "collapsed": false
   },
   "outputs": [
    {
     "data": {
      "text/plain": [
       "2"
      ]
     },
     "execution_count": 8,
     "metadata": {},
     "output_type": "execute_result"
    }
   ],
   "source": [
    "k.CREAi(1,[k.CREA0(2),k.CREA0(3)])"
   ]
  },
  {
   "cell_type": "code",
   "execution_count": 11,
   "metadata": {
    "collapsed": false
   },
   "outputs": [
    {
     "name": "stdout",
     "output_type": "stream",
     "text": [
      "i: [0, 1, 2, 3, 4]\n",
      "[-1, -1, 0, -1, 2]\n",
      "[4, 5, 2, 3, 1]\n",
      "[1, -1, 3, -1, -1]\n"
     ]
    }
   ],
   "source": [
    "k=ARBOL()\n",
    "k.CREAi(1,[k.CREAi(2,[k.CREA0(4),k.CREA0(5)]),k.CREA0(3)])\n",
    "print \"i:\",range(0,len(k.data))\n",
    "print k.hijo_mas_izq\n",
    "print k.data\n",
    "print k.hermano_dere"
   ]
  },
  {
   "cell_type": "code",
   "execution_count": 14,
   "metadata": {
    "collapsed": false
   },
   "outputs": [],
   "source": [
    "A=ARBOL()"
   ]
  },
  {
   "cell_type": "code",
   "execution_count": 15,
   "metadata": {
    "collapsed": false
   },
   "outputs": [
    {
     "data": {
      "text/plain": [
       "8"
      ]
     },
     "execution_count": 15,
     "metadata": {},
     "output_type": "execute_result"
    }
   ],
   "source": [
    "A.CREAi(1,[\n",
    "    A.CREAi(2,[\n",
    "        A.CREAi(5,[\n",
    "            A.CREA0(8)\n",
    "        ]),\n",
    "        A.CREA0(6)\n",
    "    ]),\n",
    "    A.CREA0(3),\n",
    "    A.CREAi(4,[\n",
    "        A.CREA0(7),\n",
    "        A.CREA0(9)\n",
    "    ])\n",
    "])"
   ]
  },
  {
   "cell_type": "code",
   "execution_count": 20,
   "metadata": {
    "collapsed": false
   },
   "outputs": [
    {
     "name": "stdout",
     "output_type": "stream",
     "text": [
      "0\t-1\t8\t-1\n",
      "1\t0\t5\t2\n",
      "2\t-1\t6\t-1\n",
      "3\t1\t2\t4\n",
      "4\t-1\t3\t7\n",
      "5\t-1\t7\t6\n",
      "6\t-1\t9\t-1\n",
      "7\t5\t4\t-1\n",
      "8\t3\t1\t-1\n"
     ]
    }
   ],
   "source": [
    "#print \"i:\",range(0,len(A.data))\n",
    "for i in range(0,len(A.data)):\n",
    "    print str(i)+\"\\t\"+str(A.hijo_mas_izq[i])+\"\\t\"+str(A.data[i])+\"\\t\"+str(A.hermano_dere[i])"
   ]
  },
  {
   "cell_type": "code",
   "execution_count": 27,
   "metadata": {
    "collapsed": false
   },
   "outputs": [
    {
     "data": {
      "text/plain": [
       "5"
      ]
     },
     "execution_count": 27,
     "metadata": {},
     "output_type": "execute_result"
    }
   ],
   "source": [
    "A.PADRE(8)"
   ]
  },
  {
   "cell_type": "code",
   "execution_count": null,
   "metadata": {
    "collapsed": true
   },
   "outputs": [],
   "source": []
  }
 ],
 "metadata": {
  "kernelspec": {
   "display_name": "Python [conda root]",
   "language": "python",
   "name": "conda-root-py"
  },
  "language_info": {
   "codemirror_mode": {
    "name": "ipython",
    "version": 2
   },
   "file_extension": ".py",
   "mimetype": "text/x-python",
   "name": "python",
   "nbconvert_exporter": "python",
   "pygments_lexer": "ipython2",
   "version": "2.7.12"
  }
 },
 "nbformat": 4,
 "nbformat_minor": 2
}
